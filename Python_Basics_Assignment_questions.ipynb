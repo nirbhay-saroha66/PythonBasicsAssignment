{
  "nbformat": 4,
  "nbformat_minor": 0,
  "metadata": {
    "colab": {
      "provenance": []
    },
    "kernelspec": {
      "name": "python3",
      "display_name": "Python 3"
    },
    "language_info": {
      "name": "python"
    }
  },
  "cells": [
    {
      "cell_type": "markdown",
      "source": [
        "**Q1) What is Python, and why is it popular?**"
      ],
      "metadata": {
        "id": "SiQRWUT3XnUS"
      }
    },
    {
      "cell_type": "code",
      "source": [
        "\"\"\"Python is programming language which is used to code the programs,\n",
        "it is popular because of following reasons:\n",
        "1.Easy to use: simple syntax which makes it beginner friendly\n",
        "2.Libraries: libraries like Numpy, pandas scikit-learn simplify data analysis\n",
        "              and machine learning\n",
        "3.Visualization: tools like Matplotlib and Seaborn help create data visualization\n",
        "4.community support: large community ensures constant updates and support\n",
        "5. Integration:  easy integration with database and other tools\"\"\""
      ],
      "metadata": {
        "id": "FNsK3uNmohET"
      },
      "execution_count": null,
      "outputs": []
    },
    {
      "cell_type": "markdown",
      "source": [
        "**Q2) What is an interpreter in Python**"
      ],
      "metadata": {
        "id": "B0i7oiufXxSv"
      }
    },
    {
      "cell_type": "code",
      "source": [
        "\"\"\"\n",
        "python interpreter is a computer program that translates python code into\n",
        "machine code that a computer can unterstand and ezecute\n",
        ">>working: interpreter reads the source code, breaks it down into tokens, checks\n",
        "            the syntax, and generates bytecode\n",
        "\"\"\""
      ],
      "metadata": {
        "id": "BGZD5_eqouiS"
      },
      "execution_count": null,
      "outputs": []
    },
    {
      "cell_type": "markdown",
      "source": [
        "**Q3) What are pre-defined keywords in Python?**"
      ],
      "metadata": {
        "id": "TlseyS9Zpegq"
      }
    },
    {
      "cell_type": "code",
      "source": [
        "\"\"\"\n",
        "predefined keywords in python are reserved works that cant be used as variables\n",
        "names\n",
        "exmaple:\n",
        "1. control flow: if, else,elif, while, for\n",
        "2. exception handling: try, except, finally\n",
        "3, logical operation: and, or, not\n",
        "4. others: def, class, return, import etc.\n",
        "\"\"\""
      ],
      "metadata": {
        "id": "d2V10-f4pkzG"
      },
      "execution_count": null,
      "outputs": []
    },
    {
      "cell_type": "markdown",
      "source": [
        "**Q4) Can keywords be used as variable names?**"
      ],
      "metadata": {
        "id": "tTSlYCEDqWx4"
      }
    },
    {
      "cell_type": "code",
      "source": [
        "\"\"\"\n",
        "no, keywords are reserved words in python hence cant be used as variables names\n",
        "\"\"\""
      ],
      "metadata": {
        "id": "YUcyU8nLqaQP"
      },
      "execution_count": null,
      "outputs": []
    },
    {
      "cell_type": "markdown",
      "source": [
        "**Q5) What is mutability in Python?**"
      ],
      "metadata": {
        "id": "r74-FbawqoNp"
      }
    },
    {
      "cell_type": "code",
      "source": [
        "\"\"\"\n",
        "Mutability in python means ability to change object's content after it's creation\n",
        "example: list, dict, set\n",
        "\"\"\""
      ],
      "metadata": {
        "id": "fxK2kMv6qt2V"
      },
      "execution_count": null,
      "outputs": []
    },
    {
      "cell_type": "markdown",
      "source": [
        "**Q6) Why are lists mutable, but tuples are immutable?**"
      ],
      "metadata": {
        "id": "cJ_xwSgTvk8J"
      }
    },
    {
      "cell_type": "code",
      "source": [
        "\"\"\"\n",
        "Mutability of list and immutability of tuples in python are design choices made\n",
        "to optimize these data stuctures for their intended use cases\n",
        "1. list are mutable:\n",
        ">>use case: lists are designed to store collection of items that might need to\n",
        "            change dynamicalls\n",
        "2.tuples are immutable:\n",
        ">>use case:  tuples are designed to represent fixed collection of items often\n",
        "used for data that shouldn't be changed such as database keys\n",
        "\"\"\""
      ],
      "metadata": {
        "id": "Nj6JKfZEx89F"
      },
      "execution_count": null,
      "outputs": []
    },
    {
      "cell_type": "markdown",
      "source": [
        "**Q7) What is the difference between “==” and “is” operators in Python?**"
      ],
      "metadata": {
        "id": "UjaHRRQezDrN"
      }
    },
    {
      "cell_type": "code",
      "source": [
        "\"\"\"\n",
        "\"==\" operator:\n",
        "1. compares the values of two objects to check if they are equal\n",
        "2. checks if data contained in the objects is same or not regardless of storage\n",
        "    of these objects\n",
        "\n",
        "\"is\" operator:\n",
        "1. checks if two object refer to same object in the memory\n",
        "2. checks if two objects are actually same object\n",
        "\"\"\""
      ],
      "metadata": {
        "id": "N2ohSqnizH-F"
      },
      "execution_count": null,
      "outputs": []
    },
    {
      "cell_type": "markdown",
      "source": [
        "**Q8) What are logical operators in Python?**"
      ],
      "metadata": {
        "id": "SLEp65m90tQ1"
      }
    },
    {
      "cell_type": "code",
      "source": [
        "\"\"\"\n",
        "logical operators are used to perform logical operations on boolean values\n",
        "(True and False), useful in conditional statements and decision making\n",
        "\n",
        ">>types of logical operators:\n",
        "1. AND operator: returns True if both conditions are True, else False\n",
        "2. OR operator:  returns True if at least one condition is True, returns False\n",
        "                  if both condition are False\n",
        "3. NOT operator: reverse the boolean value\n",
        "\"\"\""
      ],
      "metadata": {
        "id": "RPJK49010w9b"
      },
      "execution_count": null,
      "outputs": []
    },
    {
      "cell_type": "markdown",
      "source": [
        "**Q9) What is type casting in Python?**"
      ],
      "metadata": {
        "id": "q6xAhsHb2Aco"
      }
    },
    {
      "cell_type": "code",
      "source": [
        "\"\"\"\n",
        "type casting is a process of changing one data type to another, which can be\n",
        "done in two ways: implict and explict\n",
        "\"\"\""
      ],
      "metadata": {
        "id": "SUnwE3sq2IWr"
      },
      "execution_count": null,
      "outputs": []
    },
    {
      "cell_type": "markdown",
      "source": [
        "**Q10) What is the difference between implicit and explicit type casting?**"
      ],
      "metadata": {
        "id": "QBAj-5bX4aHD"
      }
    },
    {
      "cell_type": "code",
      "source": [
        "\"\"\"\n",
        "1.explict type casting: manually converts a value of one type to another using\n",
        "                        inbuilt functions\n",
        "              eg: int(): converts into integer\n",
        "                  float(): convets in float\n",
        "                  str(): converts into string    etc.\n",
        "\n",
        "2. implict type casting: python itself converts one datatype to another datatype\n",
        "                        during runtime\n",
        "                eg: a=3   //int\n",
        "                    b=2.5  //float\n",
        "                    c= a+b\n",
        "                      =5.5  //float >> conveted int to float by python itself\n",
        "\"\"\""
      ],
      "metadata": {
        "id": "0_dU3vx_4jxa"
      },
      "execution_count": null,
      "outputs": []
    },
    {
      "cell_type": "markdown",
      "source": [
        "**Q11) What is the purpose of conditional statements in Python?**"
      ],
      "metadata": {
        "id": "9TFfE0yl4oOZ"
      }
    },
    {
      "cell_type": "code",
      "source": [
        "\"\"\"\n",
        "The purpose of conditional statements in python is to control the flow of a\n",
        "program by allowing it to make decisons based on certain conditions,\n",
        "conditional statements enables the program to execute specific block of code\n",
        "only if certain conditions are true\n",
        "\n",
        "types of condtionals statements:\n",
        "1. if statement: executes the block of code only if condition is true\n",
        "            eg:  x=10\n",
        "                  if x>5:\n",
        "                    print(\"x is greater than 5\")\n",
        "\n",
        "2. if-else statement: executes one block of code if condition is true, and\n",
        "                      executes another if condition is false\n",
        "              eg:   x=3\n",
        "                    if x>5:\n",
        "                          print(\"x is greater than 5\")\n",
        "                    else:\n",
        "                          print(\"x is not greater than 5\")\n",
        "\n",
        "3. if-elif-else statement: allows checking of multiple conditions, and the first\n",
        "                            condition that is true will execute\n",
        "              eg:   x=10\n",
        "                    if x>20:\n",
        "                          print(\"x is greater than 20\")\n",
        "                    elif x>5:\n",
        "                          print(\"x is greater than 5 but less than 20\")\n",
        "                    else:\n",
        "                          print(\"x is less than 5\")\n",
        "\n",
        "4. nested if statements: allows multiple if-else inside if-else\n",
        "            eg:   x=15\n",
        "                  if x>10:\n",
        "                      if x<20:\n",
        "                          print(\"x is between 10 and 20\")\n",
        "\n",
        "\"\"\""
      ],
      "metadata": {
        "id": "1xh5K1EK4r4J"
      },
      "execution_count": null,
      "outputs": []
    },
    {
      "cell_type": "markdown",
      "source": [
        "**Q12) How does the elif statement work?**"
      ],
      "metadata": {
        "id": "nu-HuG5ynfQX"
      }
    },
    {
      "cell_type": "code",
      "source": [
        "\"\"\"\n",
        "elif statement: it is a type of conditional statement which allows checking of\n",
        "                multiple conditions and the first condition that is true will\n",
        "                execute the block of code associated with elif statement\n",
        "        eg:   x=10\n",
        "              ifx>20:\n",
        "                print(\"x is greater than 20\")\n",
        "              elif x>5:\n",
        "                print(\"x is greater than 5 but less than or equal to 20\")\n",
        "              else:\n",
        "                print(\"x is smaller than 5\")\n",
        "    => Here x=10,\n",
        "          therefore, condition x>20 fails,\n",
        "          then it checks x>5 as x=10 is greater than 5 hence it is true\n",
        "          and code associated with x>5 will be executed\n",
        "          hence x is greater than 5 but less than or equal to 20 will be printed\n",
        "\"\"\""
      ],
      "metadata": {
        "id": "JZ7c4EJLnllB",
        "colab": {
          "base_uri": "https://localhost:8080/",
          "height": 108
        },
        "outputId": "61071ef9-0e7b-488b-f935-55412c0c75cc"
      },
      "execution_count": 1,
      "outputs": [
        {
          "output_type": "execute_result",
          "data": {
            "text/plain": [
              "'\\nelif statement: it is a type of conditional statement which allows checking of \\n                multiple conditions and the first condition that is true will \\n                execute the block of code associated with elif statement\\n        eg:   x=10\\n              ifx>20:\\n                print(\"x is greater than 20\")\\n              elif x>5:\\n'"
            ],
            "application/vnd.google.colaboratory.intrinsic+json": {
              "type": "string"
            }
          },
          "metadata": {},
          "execution_count": 1
        }
      ]
    },
    {
      "cell_type": "markdown",
      "source": [
        "**Q13) What is the difference between for and while loops?**"
      ],
      "metadata": {
        "id": "1Ek2MVw89OFC"
      }
    },
    {
      "cell_type": "code",
      "source": [
        "\"\"\"\n",
        "for loop:  it is a loop which is used when the number of iterations are known\n",
        "            or used when iterating over a sequence\n",
        "\n",
        "        syntax:  for variable in iterable:\n",
        "                        code of block\n",
        "\n",
        "while loop: it is a loop which is used when number of iterations is not known and\n",
        "              you want to loop until a specific condition becomes false\n",
        "\n",
        "        syntax:   while condition:\n",
        "                      block of code\n",
        "\"\"\""
      ],
      "metadata": {
        "id": "bsV3LVHl9RwL"
      },
      "execution_count": null,
      "outputs": []
    },
    {
      "cell_type": "markdown",
      "source": [
        "**Q13) Describe a scenario where a while loop is more suitable than a for loop**"
      ],
      "metadata": {
        "id": "IyCuqlB8-Xcd"
      }
    },
    {
      "cell_type": "code",
      "source": [
        "\"\"\"\n",
        "let there is a number and we want to count down to 0, as we dont know how big\n",
        "number is, therefore while loop is better because loop runs unitl the number 0\n",
        "is reached\n",
        "\n",
        "as number of iteration depend on the value of number therefore while loop is\n",
        "better than for loop as it use for loop we need to know how many times the loop\n",
        "will execute\n",
        "\"\"\""
      ],
      "metadata": {
        "id": "Y9c9cfhJ-fG9"
      },
      "execution_count": null,
      "outputs": []
    },
    {
      "cell_type": "markdown",
      "source": [
        "**## Practical Questions**"
      ],
      "metadata": {
        "id": "aRMZAU2sXbfp"
      }
    },
    {
      "cell_type": "markdown",
      "source": [
        "**Q1)Write a Python program to print \"Hello, World!\"**"
      ],
      "metadata": {
        "id": "Efla4I-kKoEh"
      }
    },
    {
      "cell_type": "code",
      "execution_count": null,
      "metadata": {
        "colab": {
          "base_uri": "https://localhost:8080/"
        },
        "id": "nWeSp65zKYCl",
        "outputId": "9e616192-6a38-42f1-97c4-f2930823840b"
      },
      "outputs": [
        {
          "output_type": "stream",
          "name": "stdout",
          "text": [
            "Hello, World!\n"
          ]
        }
      ],
      "source": [
        "print(\"Hello, World!\")"
      ]
    },
    {
      "cell_type": "markdown",
      "source": [
        "**Q2) Write a Python program that displays your name and age**"
      ],
      "metadata": {
        "id": "QkE6BbjILOy9"
      }
    },
    {
      "cell_type": "code",
      "source": [
        "name = input(\"enter your name\")\n",
        "age =  input(\"enter your age\")\n",
        "\n",
        "print(f\"my name is {name} and my age is {age} years old\")"
      ],
      "metadata": {
        "colab": {
          "base_uri": "https://localhost:8080/"
        },
        "id": "O1pbn-wJMrTw",
        "outputId": "58232bfd-0bdd-46be-95cf-1e105e0077ca"
      },
      "execution_count": null,
      "outputs": [
        {
          "output_type": "stream",
          "name": "stdout",
          "text": [
            "enter your namenirbhay saroha\n",
            "enter your age26\n",
            "my name is nirbhay saroha and my age is 26 years old\n"
          ]
        }
      ]
    },
    {
      "cell_type": "markdown",
      "source": [
        "**Q3)Write code to print all the pre-defined keywords in Python using the keyword library**"
      ],
      "metadata": {
        "id": "VRuYNrasNE3x"
      }
    },
    {
      "cell_type": "code",
      "source": [
        "import keyword\n",
        "print(\"all the keywords in python are:\")\n",
        "print(keyword.kwlist)"
      ],
      "metadata": {
        "colab": {
          "base_uri": "https://localhost:8080/"
        },
        "id": "5PoOo7vLM583",
        "outputId": "3cfd6596-1a93-432e-ae26-52e88ad092e7"
      },
      "execution_count": null,
      "outputs": [
        {
          "output_type": "stream",
          "name": "stdout",
          "text": [
            "all the keywords in python are:\n",
            "['False', 'None', 'True', 'and', 'as', 'assert', 'async', 'await', 'break', 'class', 'continue', 'def', 'del', 'elif', 'else', 'except', 'finally', 'for', 'from', 'global', 'if', 'import', 'in', 'is', 'lambda', 'nonlocal', 'not', 'or', 'pass', 'raise', 'return', 'try', 'while', 'with', 'yield']\n"
          ]
        }
      ]
    },
    {
      "cell_type": "markdown",
      "source": [
        "**Q4)Write a program that checks if a given word is a Python keyword**"
      ],
      "metadata": {
        "id": "UnSox95QpoZf"
      }
    },
    {
      "cell_type": "code",
      "source": [
        "import keyword\n",
        "word = input(\"enter the word\")\n",
        "print(word, \"is keyword in python:\", keyword.iskeyword(word))"
      ],
      "metadata": {
        "colab": {
          "base_uri": "https://localhost:8080/"
        },
        "id": "EtU4HVynNL1V",
        "outputId": "45d8b4b1-7a83-4995-9e18-d67c0feaeff2"
      },
      "execution_count": null,
      "outputs": [
        {
          "output_type": "stream",
          "name": "stdout",
          "text": [
            "enter the wordif\n",
            "if is keyword in python: True\n"
          ]
        }
      ]
    },
    {
      "cell_type": "markdown",
      "source": [
        "**Q5)Create a list and tuple in Python, and demonstrate how attempting to change an element works differently for each**"
      ],
      "metadata": {
        "id": "C09pL5AdsFhZ"
      }
    },
    {
      "cell_type": "code",
      "source": [
        "list1 = [1,2,\"ab\",\"bc\",\"abc\",\"hello\"]\n",
        "list1[0] = \"hello\"\n",
        "list1[1] = \"abc\"\n",
        "list1[2] = \"bc\"\n",
        "list1[3] = \"ab\"\n",
        "list1[4] = 2\n",
        "list1[5] = 1\n",
        "list1"
      ],
      "metadata": {
        "colab": {
          "base_uri": "https://localhost:8080/"
        },
        "id": "eS7UGDzIr50p",
        "outputId": "99c174ce-63bb-4350-bc87-ffe50309493f"
      },
      "execution_count": null,
      "outputs": [
        {
          "output_type": "execute_result",
          "data": {
            "text/plain": [
              "['hello', 'abc', 'bc', 'ab', 2, 1]"
            ]
          },
          "metadata": {},
          "execution_count": 18
        }
      ]
    },
    {
      "cell_type": "code",
      "source": [
        "tuple1 = [1,2,\"ab\",\"bc\",\"abc\",\"hello\"]\n",
        "tuple[2] = 99"
      ],
      "metadata": {
        "colab": {
          "base_uri": "https://localhost:8080/",
          "height": 164
        },
        "id": "J0s0vRqntBRr",
        "outputId": "8d641f8e-3d7c-4168-beae-e3b14ea71e19"
      },
      "execution_count": null,
      "outputs": [
        {
          "output_type": "error",
          "ename": "TypeError",
          "evalue": "'type' object does not support item assignment",
          "traceback": [
            "\u001b[0;31m---------------------------------------------------------------------------\u001b[0m",
            "\u001b[0;31mTypeError\u001b[0m                                 Traceback (most recent call last)",
            "\u001b[0;32m<ipython-input-19-88f7bc096c6d>\u001b[0m in \u001b[0;36m<cell line: 2>\u001b[0;34m()\u001b[0m\n\u001b[1;32m      1\u001b[0m \u001b[0mtuple1\u001b[0m \u001b[0;34m=\u001b[0m \u001b[0;34m[\u001b[0m\u001b[0;36m1\u001b[0m\u001b[0;34m,\u001b[0m\u001b[0;36m2\u001b[0m\u001b[0;34m,\u001b[0m\u001b[0;34m\"ab\"\u001b[0m\u001b[0;34m,\u001b[0m\u001b[0;34m\"bc\"\u001b[0m\u001b[0;34m,\u001b[0m\u001b[0;34m\"abc\"\u001b[0m\u001b[0;34m,\u001b[0m\u001b[0;34m\"hello\"\u001b[0m\u001b[0;34m]\u001b[0m\u001b[0;34m\u001b[0m\u001b[0;34m\u001b[0m\u001b[0m\n\u001b[0;32m----> 2\u001b[0;31m \u001b[0mtuple\u001b[0m\u001b[0;34m[\u001b[0m\u001b[0;36m2\u001b[0m\u001b[0;34m]\u001b[0m \u001b[0;34m=\u001b[0m \u001b[0;36m99\u001b[0m\u001b[0;34m\u001b[0m\u001b[0;34m\u001b[0m\u001b[0m\n\u001b[0m",
            "\u001b[0;31mTypeError\u001b[0m: 'type' object does not support item assignment"
          ]
        }
      ]
    },
    {
      "cell_type": "markdown",
      "source": [
        "lists are mutable therefore can be modified after its creation\n",
        "tuples are immutable therefore it cant be modified after its creation"
      ],
      "metadata": {
        "id": "5fTGwNosvO1e"
      }
    },
    {
      "cell_type": "markdown",
      "source": [
        "**Q6) Write a function to demonstrate the behavior of mutable and immutable arguments**"
      ],
      "metadata": {
        "id": "Vydyn_L1vwdb"
      }
    },
    {
      "cell_type": "code",
      "source": [
        "list1 = [1,2,3.5,\"hello\",True]\n",
        "print(\"list before modification\",list1)\n",
        "list1[3]=\"bye\"\n",
        "print(\"list after modification\",list1)"
      ],
      "metadata": {
        "colab": {
          "base_uri": "https://localhost:8080/"
        },
        "id": "0GfcjGSQVwGD",
        "outputId": "b9f71b4f-7b58-4cc6-e2b4-8c6b26aa5e91"
      },
      "execution_count": null,
      "outputs": [
        {
          "output_type": "stream",
          "name": "stdout",
          "text": [
            "list before modification [1, 2, 3.5, 'hello', True]\n",
            "list after modification [1, 2, 3.5, 'bye', True]\n"
          ]
        }
      ]
    },
    {
      "cell_type": "markdown",
      "source": [
        "As we know lists are mutable objects, therefore they can be modified after creation\n"
      ],
      "metadata": {
        "id": "2fIeE6rUWQ-h"
      }
    },
    {
      "cell_type": "code",
      "source": [
        "b = \"hello\"\n",
        "b[1] = \"I\""
      ],
      "metadata": {
        "colab": {
          "base_uri": "https://localhost:8080/",
          "height": 164
        },
        "id": "iDSgt0uWWbpF",
        "outputId": "475cbf2d-eb60-45e5-96c8-6209c5172297"
      },
      "execution_count": null,
      "outputs": [
        {
          "output_type": "error",
          "ename": "TypeError",
          "evalue": "'str' object does not support item assignment",
          "traceback": [
            "\u001b[0;31m---------------------------------------------------------------------------\u001b[0m",
            "\u001b[0;31mTypeError\u001b[0m                                 Traceback (most recent call last)",
            "\u001b[0;32m<ipython-input-26-739763d74258>\u001b[0m in \u001b[0;36m<cell line: 2>\u001b[0;34m()\u001b[0m\n\u001b[1;32m      1\u001b[0m \u001b[0mb\u001b[0m \u001b[0;34m=\u001b[0m \u001b[0;34m\"hello\"\u001b[0m\u001b[0;34m\u001b[0m\u001b[0;34m\u001b[0m\u001b[0m\n\u001b[0;32m----> 2\u001b[0;31m \u001b[0mb\u001b[0m\u001b[0;34m[\u001b[0m\u001b[0;36m1\u001b[0m\u001b[0;34m]\u001b[0m \u001b[0;34m=\u001b[0m \u001b[0;34m\"I\"\u001b[0m\u001b[0;34m\u001b[0m\u001b[0;34m\u001b[0m\u001b[0m\n\u001b[0m",
            "\u001b[0;31mTypeError\u001b[0m: 'str' object does not support item assignment"
          ]
        }
      ]
    },
    {
      "cell_type": "markdown",
      "source": [
        "as we know stirng are immutable objects therefore we cant modify them after thier creation"
      ],
      "metadata": {
        "id": "4KEFmcIKWQrR"
      }
    },
    {
      "cell_type": "markdown",
      "source": [
        "**Q7) Write a function to demonstrate the behavior of mutable and immutable arguments**\n",
        "\n",
        "Repeated same as Q6)"
      ],
      "metadata": {
        "id": "GoRcpDocW6fX"
      }
    },
    {
      "cell_type": "markdown",
      "source": [
        "**Q8) Write a program to demonstrate the use of logical operators**"
      ],
      "metadata": {
        "id": "Fy6lX5pZwHhc"
      }
    },
    {
      "cell_type": "code",
      "source": [
        "#and operation\n",
        "a = True #1\n",
        "b = False #0\n",
        "#then\n",
        "w = a and a\n",
        "x = a and b\n",
        "y = b and a\n",
        "z = b and b\n",
        "print(w)\n",
        "print(x)\n",
        "print(y)\n",
        "print(z)"
      ],
      "metadata": {
        "colab": {
          "base_uri": "https://localhost:8080/"
        },
        "id": "VwZt_JxrumnI",
        "outputId": "9a854f74-2754-420e-fb4a-abc544317bf5"
      },
      "execution_count": null,
      "outputs": [
        {
          "output_type": "stream",
          "name": "stdout",
          "text": [
            "True\n",
            "False\n",
            "False\n",
            "False\n"
          ]
        }
      ]
    },
    {
      "cell_type": "code",
      "source": [
        "#or operation\n",
        "a = True #1\n",
        "b = False #0\n",
        "#then\n",
        "w = a or a\n",
        "x = a or b\n",
        "y = b or a\n",
        "z = b or b\n",
        "print(w)\n",
        "print(x)\n",
        "print(y)\n",
        "print(z)"
      ],
      "metadata": {
        "colab": {
          "base_uri": "https://localhost:8080/"
        },
        "id": "F69VHZOLwi2j",
        "outputId": "5f4d8a58-fd52-40c2-c1df-3e24d1ae27db"
      },
      "execution_count": null,
      "outputs": [
        {
          "output_type": "stream",
          "name": "stdout",
          "text": [
            "True\n",
            "True\n",
            "True\n",
            "False\n"
          ]
        }
      ]
    },
    {
      "cell_type": "code",
      "source": [
        "#not operation\n",
        "a =  True #1\n",
        "b = False #0\n",
        "#then\n",
        "x = not a\n",
        "y = not b\n",
        "print(x)\n",
        "print(y)"
      ],
      "metadata": {
        "colab": {
          "base_uri": "https://localhost:8080/"
        },
        "id": "RB2nUg9fxlDt",
        "outputId": "8dd261aa-7a65-4e2e-b435-8315b3457873"
      },
      "execution_count": null,
      "outputs": [
        {
          "output_type": "stream",
          "name": "stdout",
          "text": [
            "False\n",
            "True\n"
          ]
        }
      ]
    },
    {
      "cell_type": "markdown",
      "source": [
        "** Q9) Write a Python program to convert user input from string to integer, float, and boolean types**"
      ],
      "metadata": {
        "id": "JJa-Re4NyZcg"
      }
    },
    {
      "cell_type": "code",
      "source": [
        "a = \"string\"\n",
        "b = \"2\"\n",
        "print(type(b))\n",
        "print(int(b))   #conversion of string to integer\n",
        "print(float(b)) #conversion of string to float\n",
        "print(type(a))\n",
        "print(bool(a))  #conversion of stirng to bool\n"
      ],
      "metadata": {
        "colab": {
          "base_uri": "https://localhost:8080/"
        },
        "id": "dEzl7JXsx9fo",
        "outputId": "f11123b8-c252-4354-a76f-2f5f4fb309b0"
      },
      "execution_count": null,
      "outputs": [
        {
          "output_type": "stream",
          "name": "stdout",
          "text": [
            "<class 'str'>\n",
            "2\n",
            "2.0\n",
            "<class 'str'>\n",
            "True\n"
          ]
        }
      ]
    },
    {
      "cell_type": "markdown",
      "source": [
        "**Q10) Write code to demonstrate type casting with list elements**"
      ],
      "metadata": {
        "id": "AojlQzEX1Ujk"
      }
    },
    {
      "cell_type": "code",
      "source": [
        "list1 = [1,2,\"hello\",3.5,\"2.1\"]\n",
        "type(list1[0])"
      ],
      "metadata": {
        "colab": {
          "base_uri": "https://localhost:8080/"
        },
        "id": "NPR1deTAAYoY",
        "outputId": "32f3a164-7ae1-4070-cd03-3aeab0cafcbc"
      },
      "execution_count": null,
      "outputs": [
        {
          "output_type": "execute_result",
          "data": {
            "text/plain": [
              "int"
            ]
          },
          "metadata": {},
          "execution_count": 10
        }
      ]
    },
    {
      "cell_type": "code",
      "source": [
        "#convert int to float\n",
        "float(list1[0])"
      ],
      "metadata": {
        "colab": {
          "base_uri": "https://localhost:8080/"
        },
        "id": "d1MfT0PpBsDa",
        "outputId": "59962d26-57fa-4168-9f28-a7dd000049c3"
      },
      "execution_count": null,
      "outputs": [
        {
          "output_type": "execute_result",
          "data": {
            "text/plain": [
              "1.0"
            ]
          },
          "metadata": {},
          "execution_count": 11
        }
      ]
    },
    {
      "cell_type": "code",
      "source": [
        "type(list1[3])"
      ],
      "metadata": {
        "colab": {
          "base_uri": "https://localhost:8080/"
        },
        "id": "Y38kFJn1Qx3C",
        "outputId": "e514e9d8-f19f-4bb5-fbac-8fcf365683ed"
      },
      "execution_count": null,
      "outputs": [
        {
          "output_type": "execute_result",
          "data": {
            "text/plain": [
              "float"
            ]
          },
          "metadata": {},
          "execution_count": 12
        }
      ]
    },
    {
      "cell_type": "code",
      "source": [
        "#convert float to int\n",
        "int(list1[3])"
      ],
      "metadata": {
        "colab": {
          "base_uri": "https://localhost:8080/"
        },
        "id": "hBtgLfqdRQz7",
        "outputId": "b0a8a206-e9a9-41f7-a246-c6773e8440da"
      },
      "execution_count": null,
      "outputs": [
        {
          "output_type": "execute_result",
          "data": {
            "text/plain": [
              "3"
            ]
          },
          "metadata": {},
          "execution_count": 13
        }
      ]
    },
    {
      "cell_type": "code",
      "source": [
        "type(list1[2])"
      ],
      "metadata": {
        "colab": {
          "base_uri": "https://localhost:8080/"
        },
        "id": "9XAR9skLRQwh",
        "outputId": "49935aa4-1f7f-4230-90de-94249beb6ffc"
      },
      "execution_count": null,
      "outputs": [
        {
          "output_type": "execute_result",
          "data": {
            "text/plain": [
              "str"
            ]
          },
          "metadata": {},
          "execution_count": 14
        }
      ]
    },
    {
      "cell_type": "code",
      "source": [
        "#convert string to float\n",
        "float(list1[4])\n"
      ],
      "metadata": {
        "colab": {
          "base_uri": "https://localhost:8080/"
        },
        "id": "HR1TXBpcRi2m",
        "outputId": "b7d2a6a0-b189-4df9-d649-6c9b9555fa25"
      },
      "execution_count": null,
      "outputs": [
        {
          "output_type": "execute_result",
          "data": {
            "text/plain": [
              "2.1"
            ]
          },
          "metadata": {},
          "execution_count": 16
        }
      ]
    },
    {
      "cell_type": "code",
      "source": [
        "#integer to string\n",
        "type(list1[0])"
      ],
      "metadata": {
        "colab": {
          "base_uri": "https://localhost:8080/"
        },
        "id": "ie7N2gX6Sf8g",
        "outputId": "84e3a6cd-19b0-4c94-ff1d-5e6d4fd9fb1e"
      },
      "execution_count": null,
      "outputs": [
        {
          "output_type": "execute_result",
          "data": {
            "text/plain": [
              "int"
            ]
          },
          "metadata": {},
          "execution_count": 18
        }
      ]
    },
    {
      "cell_type": "code",
      "source": [
        "str(list1[0])"
      ],
      "metadata": {
        "colab": {
          "base_uri": "https://localhost:8080/",
          "height": 36
        },
        "id": "jo61yAvPSzce",
        "outputId": "972d33d6-c3c9-4500-d8f5-573184c5c650"
      },
      "execution_count": null,
      "outputs": [
        {
          "output_type": "execute_result",
          "data": {
            "text/plain": [
              "'1'"
            ],
            "application/vnd.google.colaboratory.intrinsic+json": {
              "type": "string"
            }
          },
          "metadata": {},
          "execution_count": 19
        }
      ]
    },
    {
      "cell_type": "markdown",
      "source": [
        "**Q11) Write a program that checks if a number is positive, negative, or zero**"
      ],
      "metadata": {
        "id": "AGTWZuet1jz2"
      }
    },
    {
      "cell_type": "code",
      "source": [
        "num = int(input(\"enter number\"))\n",
        "if(num>0):\n",
        "  print(\"positive no\")\n",
        "elif(num<0):\n",
        "  print(\"negative no\")\n",
        "else:\n",
        "  print(\"equal to 0\")"
      ],
      "metadata": {
        "colab": {
          "base_uri": "https://localhost:8080/"
        },
        "id": "EQiRbRdLy7cd",
        "outputId": "b4d66180-1e75-407f-9cc6-8957f3791416"
      },
      "execution_count": null,
      "outputs": [
        {
          "output_type": "stream",
          "name": "stdout",
          "text": [
            "enter number0\n",
            "equal to 0\n"
          ]
        }
      ]
    },
    {
      "cell_type": "markdown",
      "source": [
        "** Q12)Write a for loop to print numbers from 1 to 10**"
      ],
      "metadata": {
        "id": "DyG0tled3BU4"
      }
    },
    {
      "cell_type": "code",
      "source": [
        "lower = 1\n",
        "upper = 10\n",
        "for i in range(lower,upper+1):\n",
        "  print(i)"
      ],
      "metadata": {
        "colab": {
          "base_uri": "https://localhost:8080/"
        },
        "id": "r12TZM8r2EsF",
        "outputId": "05de4747-5864-4405-871f-ebc5a827e1c9"
      },
      "execution_count": null,
      "outputs": [
        {
          "output_type": "stream",
          "name": "stdout",
          "text": [
            "1\n",
            "2\n",
            "3\n",
            "4\n",
            "5\n",
            "6\n",
            "7\n",
            "8\n",
            "9\n",
            "10\n"
          ]
        }
      ]
    },
    {
      "cell_type": "markdown",
      "source": [
        "**Q13) Write a Python program to find the sum of all even numbers between 1 and 50**"
      ],
      "metadata": {
        "id": "DDWCUES2Ckqh"
      }
    },
    {
      "cell_type": "code",
      "source": [
        "num = 50\n",
        "sum = 0\n",
        "i = 1\n",
        "while i <=  num:\n",
        "  if  i % 2 ==  0:\n",
        "    print(i)\n",
        "    sum+=i\n",
        "  i+=1\n",
        "print(f\"sum of first 50 even numbers is {sum}\")"
      ],
      "metadata": {
        "id": "wr6eVQV0CYCt",
        "colab": {
          "base_uri": "https://localhost:8080/"
        },
        "outputId": "ddf71f86-f455-4ac9-d7e7-29ab151912b2"
      },
      "execution_count": null,
      "outputs": [
        {
          "output_type": "stream",
          "name": "stdout",
          "text": [
            "2\n",
            "4\n",
            "6\n",
            "8\n",
            "10\n",
            "12\n",
            "14\n",
            "16\n",
            "18\n",
            "20\n",
            "22\n",
            "24\n",
            "26\n",
            "28\n",
            "30\n",
            "32\n",
            "34\n",
            "36\n",
            "38\n",
            "40\n",
            "42\n",
            "44\n",
            "46\n",
            "48\n",
            "50\n",
            "sum of first 50 even numbers is 650\n"
          ]
        }
      ]
    },
    {
      "cell_type": "markdown",
      "source": [
        "**Q14) Write a program to reverse a string using a while loop**"
      ],
      "metadata": {
        "id": "cgOnbLTq8IOB"
      }
    },
    {
      "cell_type": "code",
      "source": [
        "str = \"string\"\n",
        "print(\"original string is\",str)\n",
        "rev_str = \"\"\n",
        "count = len(str)\n",
        "while count>0:\n",
        "  rev_str += str[count-1]\n",
        "  count = count -1\n",
        "print(\"reversed string is: \",rev_str )"
      ],
      "metadata": {
        "colab": {
          "base_uri": "https://localhost:8080/"
        },
        "id": "wy65hhwn741K",
        "outputId": "d4b5e612-dff4-4fcb-c69c-6dde518d4785"
      },
      "execution_count": null,
      "outputs": [
        {
          "output_type": "stream",
          "name": "stdout",
          "text": [
            "original string is string\n",
            "reversed string is:  gnirts\n"
          ]
        }
      ]
    },
    {
      "cell_type": "markdown",
      "source": [
        "**Q15) Write a Python program to calculate the factorial of a number provided by the user using a while loop**"
      ],
      "metadata": {
        "id": "f8vlVmKf9-f_"
      }
    },
    {
      "cell_type": "code",
      "source": [
        "num = int(input(\"enter number: \"))\n",
        "fact = 1\n",
        "while(num>0):\n",
        "  fact = fact * num\n",
        "  num = num -1\n",
        "print(f\"factorial of is {fact}\")"
      ],
      "metadata": {
        "colab": {
          "base_uri": "https://localhost:8080/"
        },
        "id": "C_XW0Bhi89L_",
        "outputId": "13a8eb6d-5013-4c02-e632-7060e370fc10"
      },
      "execution_count": null,
      "outputs": [
        {
          "output_type": "stream",
          "name": "stdout",
          "text": [
            "enter number: 5\n",
            "factorial of is 120\n"
          ]
        }
      ]
    },
    {
      "cell_type": "code",
      "source": [],
      "metadata": {
        "id": "f1rrIFKx-txU"
      },
      "execution_count": null,
      "outputs": []
    }
  ]
}